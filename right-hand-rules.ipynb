{
 "cells": [
  {
   "cell_type": "markdown",
   "metadata": {},
   "source": [
    "# Magnetic Force Right-Hand-Rule\n",
    "\n",
    "Press the re-run button &#x23e9; above and then select the direction of the magnetic force on the charged particle."
   ]
  },
  {
   "cell_type": "code",
   "execution_count": 1,
   "metadata": {},
   "outputs": [],
   "source": [
    "%%capture\n",
    "try:\n",
    "  import google.colab\n",
    "  import os.path\n",
    "  if os.path.isdir('right-hand-rules'):\n",
    "    get_ipython().system('cd right-hand-rules; git pull')\n",
    "  else:\n",
    "    get_ipython().system('git clone https://github.com/tluchko/right-hand-rules')\n",
    "  get_ipython().system('pip install ipympl')\n",
    "  import importlib  \n",
    "  magneticrhr = importlib.import_module(\"right-hand-rules.magneticrhr\")\n",
    "except:\n",
    "  import magneticrhr"
   ]
  },
  {
   "cell_type": "code",
   "execution_count": 2,
   "metadata": {},
   "outputs": [
    {
     "data": {
      "application/vnd.jupyter.widget-view+json": {
       "model_id": "a489459fccb34ee3921655df8de32225",
       "version_major": 2,
       "version_minor": 0
      },
      "text/plain": [
       "VBox(children=(Output(layout=Layout(width='50%')), Dropdown(description='Direction:', options=('', 'None', 'Ri…"
      ]
     },
     "metadata": {},
     "output_type": "display_data"
    }
   ],
   "source": [
    "m = magneticrhr.MagneticRHR()"
   ]
  }
 ],
 "metadata": {
  "kernelspec": {
   "display_name": "Python 3",
   "language": "python",
   "name": "python3"
  },
  "language_info": {
   "codemirror_mode": {
    "name": "ipython",
    "version": 3
   },
   "file_extension": ".py",
   "mimetype": "text/x-python",
   "name": "python",
   "nbconvert_exporter": "python",
   "pygments_lexer": "ipython3",
   "version": "3.7.7"
  }
 },
 "nbformat": 4,
 "nbformat_minor": 4
}
