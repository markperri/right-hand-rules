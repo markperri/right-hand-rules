{
 "cells": [
  {
   "cell_type": "markdown",
   "metadata": {
    "tags": [
     "notebook_only"
    ]
   },
   "source": [
    "# Getting Started\n",
    "\n",
    "On **Google Colab** select `Runtime -> Run all` from the menu above.\n",
    "\n",
    "Otherwise, press the re-run button &#x23e9; above."
   ]
  },
  {
   "cell_type": "code",
   "execution_count": 1,
   "metadata": {},
   "outputs": [],
   "source": [
    "%%capture\n",
    "try:\n",
    "  import google.colab\n",
    "  import os.path\n",
    "  if os.path.isdir('right-hand-rules'):\n",
    "    get_ipython().system('cd right-hand-rules; git pull')\n",
    "  else:\n",
    "    get_ipython().system('git clone https://github.com/tluchko/right-hand-rules')\n",
    "  get_ipython().system('pip install ipympl')\n",
    "  import importlib  \n",
    "  magneticrhr = importlib.import_module(\"right-hand-rules.magneticrhr\")\n",
    "except:\n",
    "  import magneticrhr"
   ]
  },
  {
   "cell_type": "markdown",
   "metadata": {},
   "source": [
    "# Magnetic Force on Charged Particle\n",
    "\n",
    "Using magnetic force right-hand-rule, elect the direction of the magnetic force on the charged particle."
   ]
  },
  {
   "cell_type": "code",
   "execution_count": 2,
   "metadata": {},
   "outputs": [
    {
     "data": {
      "application/vnd.jupyter.widget-view+json": {
       "model_id": "2a7f2ec52f414c51a13b1123a93aab42",
       "version_major": 2,
       "version_minor": 0
      },
      "text/plain": [
       "VBox(children=(Output(layout=Layout(width='500px')), Dropdown(description='Direction:', options=('', 'None', '…"
      ]
     },
     "metadata": {},
     "output_type": "display_data"
    }
   ],
   "source": [
    "particle = magneticrhr.MagneticRHR('particle')"
   ]
  },
  {
   "cell_type": "markdown",
   "metadata": {},
   "source": [
    "# Magnetic Force on a Wire\n",
    "\n",
    "Using magnetic force right-hand-rule, select the direction of the magnetic force on the current-carrying wire."
   ]
  },
  {
   "cell_type": "code",
   "execution_count": 3,
   "metadata": {},
   "outputs": [
    {
     "data": {
      "application/vnd.jupyter.widget-view+json": {
       "model_id": "91223afd987d48c6a6d510d05acf3cc4",
       "version_major": 2,
       "version_minor": 0
      },
      "text/plain": [
       "VBox(children=(Output(layout=Layout(width='500px')), Dropdown(description='Direction:', options=('', 'None', '…"
      ]
     },
     "metadata": {},
     "output_type": "display_data"
    }
   ],
   "source": [
    "wire = magneticrhr.MagneticRHR('wire')"
   ]
  },
  {
   "cell_type": "code",
   "execution_count": null,
   "metadata": {},
   "outputs": [],
   "source": []
  }
 ],
 "metadata": {
  "celltoolbar": "Tags",
  "kernelspec": {
   "display_name": "Python 3",
   "language": "python",
   "name": "python3"
  },
  "language_info": {
   "codemirror_mode": {
    "name": "ipython",
    "version": 3
   },
   "file_extension": ".py",
   "mimetype": "text/x-python",
   "name": "python",
   "nbconvert_exporter": "python",
   "pygments_lexer": "ipython3",
   "version": "3.7.6"
  },
  "latex_envs": {
   "LaTeX_envs_menu_present": true,
   "autoclose": false,
   "autocomplete": true,
   "bibliofile": "biblio.bib",
   "cite_by": "apalike",
   "current_citInitial": 1,
   "eqLabelWithNumbers": true,
   "eqNumInitial": 1,
   "hotkeys": {
    "equation": "Ctrl-E",
    "itemize": "Ctrl-I"
   },
   "labels_anchors": false,
   "latex_user_defs": false,
   "report_style_numbering": true,
   "user_envs_cfg": false
  }
 },
 "nbformat": 4,
 "nbformat_minor": 4
}
